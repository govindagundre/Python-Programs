{
 "cells": [
  {
   "cell_type": "code",
   "execution_count": 22,
   "id": "399a0aea",
   "metadata": {},
   "outputs": [
    {
     "name": "stdout",
     "output_type": "stream",
     "text": [
      "Enter Any Number25\n",
      "25 is an odd Number\n"
     ]
    }
   ],
   "source": [
    "# Program for given no is Even or Odd\n",
    "n=int(input(\"Enter Any Number\"))\n",
    "if(n%2==0):\n",
    "        print(n,\"is an even Number\")\n",
    "else:\n",
    "    print(n,\"is an odd Number\")\n"
   ]
  },
  {
   "cell_type": "code",
   "execution_count": null,
   "id": "cf953bc8",
   "metadata": {},
   "outputs": [],
   "source": [
    "# Leap year or not"
   ]
  },
  {
   "cell_type": "code",
   "execution_count": 59,
   "id": "1821704b",
   "metadata": {},
   "outputs": [
    {
     "name": "stdout",
     "output_type": "stream",
     "text": [
      "Enter a year:2020\n",
      "It is a leap year\n"
     ]
    }
   ],
   "source": [
    "input_year =int(input(\"Enter a year:\"))\n",
    "\n",
    "def is_leap(year):\n",
    "    \n",
    "    if(year % 400 == 0) or (year % 4 == 0 and year % 100 != 0):\n",
    "        \n",
    "        return True\n",
    "    \n",
    "    return False\n",
    "\n",
    "if is_leap(input_year):\n",
    "    \n",
    "    print(\"It is a leap year\")\n",
    "else:\n",
    "    print(\"It is not a leap year\")\n",
    "        \n",
    "\n"
   ]
  },
  {
   "cell_type": "code",
   "execution_count": 58,
   "id": "c736d17f",
   "metadata": {},
   "outputs": [
    {
     "ename": "ModuleNotFoundError",
     "evalue": "No module named 'calender'",
     "output_type": "error",
     "traceback": [
      "\u001b[1;31m---------------------------------------------------------------------------\u001b[0m",
      "\u001b[1;31mModuleNotFoundError\u001b[0m                       Traceback (most recent call last)",
      "\u001b[1;32m<ipython-input-58-2ba23658c702>\u001b[0m in \u001b[0;36m<module>\u001b[1;34m\u001b[0m\n\u001b[1;32m----> 1\u001b[1;33m \u001b[1;32mimport\u001b[0m \u001b[0mcalender\u001b[0m\u001b[1;33m\u001b[0m\u001b[1;33m\u001b[0m\u001b[0m\n\u001b[0m\u001b[0;32m      2\u001b[0m \u001b[1;33m\u001b[0m\u001b[0m\n\u001b[0;32m      3\u001b[0m \u001b[1;32mif\u001b[0m \u001b[0mcalender\u001b[0m\u001b[1;33m.\u001b[0m\u001b[0misleap\u001b[0m\u001b[1;33m(\u001b[0m\u001b[0minput_year\u001b[0m\u001b[1;33m)\u001b[0m\u001b[1;33m:\u001b[0m\u001b[1;33m\u001b[0m\u001b[1;33m\u001b[0m\u001b[0m\n\u001b[0;32m      4\u001b[0m     \u001b[0mprint\u001b[0m\u001b[1;33m(\u001b[0m\u001b[1;34m\"It is a leap year\"\u001b[0m\u001b[1;33m)\u001b[0m\u001b[1;33m\u001b[0m\u001b[1;33m\u001b[0m\u001b[0m\n\u001b[0;32m      5\u001b[0m \u001b[1;32melse\u001b[0m\u001b[1;33m:\u001b[0m\u001b[1;33m\u001b[0m\u001b[1;33m\u001b[0m\u001b[0m\n",
      "\u001b[1;31mModuleNotFoundError\u001b[0m: No module named 'calender'"
     ]
    }
   ],
   "source": [
    "import calender\n",
    "\n",
    "if calender.isleap(input_year):\n",
    "    print(\"It is a leap year\")\n",
    "else:\n",
    "    print(\"It is not a leap year\")"
   ]
  },
  {
   "cell_type": "code",
   "execution_count": null,
   "id": "45c414fd",
   "metadata": {},
   "outputs": [],
   "source": []
  }
 ],
 "metadata": {
  "kernelspec": {
   "display_name": "Python 3",
   "language": "python",
   "name": "python3"
  },
  "language_info": {
   "codemirror_mode": {
    "name": "ipython",
    "version": 3
   },
   "file_extension": ".py",
   "mimetype": "text/x-python",
   "name": "python",
   "nbconvert_exporter": "python",
   "pygments_lexer": "ipython3",
   "version": "3.8.8"
  }
 },
 "nbformat": 4,
 "nbformat_minor": 5
}
