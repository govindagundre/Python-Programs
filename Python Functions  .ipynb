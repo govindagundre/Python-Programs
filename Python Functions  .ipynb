{
 "cells": [
  {
   "cell_type": "code",
   "execution_count": null,
   "id": "56e369bb",
   "metadata": {},
   "outputs": [],
   "source": [
    "#While loop "
   ]
  },
  {
   "cell_type": "code",
   "execution_count": 5,
   "id": "aa9692e5",
   "metadata": {},
   "outputs": [
    {
     "name": "stdout",
     "output_type": "stream",
     "text": [
      "The Count is 0\n",
      "The Count is 1\n",
      "The Count is 2\n",
      "The Count is 3\n",
      "The Count is 4\n",
      "The Count is 5\n"
     ]
    }
   ],
   "source": [
    "count=0\n",
    "while (count<6):\n",
    "    print(\"The Count is\",count)\n",
    "    \n",
    "    count=count+1"
   ]
  },
  {
   "cell_type": "code",
   "execution_count": null,
   "id": "df5798a9",
   "metadata": {},
   "outputs": [],
   "source": [
    "# For loop"
   ]
  },
  {
   "cell_type": "code",
   "execution_count": 9,
   "id": "c56d1be9",
   "metadata": {},
   "outputs": [
    {
     "name": "stdout",
     "output_type": "stream",
     "text": [
      "Current Latter: P\n",
      "Current Latter: y\n",
      "Current Latter: t\n",
      "Current Latter: h\n",
      "Current Latter: o\n",
      "Current Latter: n\n",
      "Good bye!\n"
     ]
    }
   ],
   "source": [
    "for letter in 'Python':\n",
    "    print('Current Latter:',letter)\n",
    "    \n",
    "print(\"Good bye!\")"
   ]
  },
  {
   "cell_type": "code",
   "execution_count": 10,
   "id": "7a2000d4",
   "metadata": {},
   "outputs": [
    {
     "name": "stdout",
     "output_type": "stream",
     "text": [
      "Current Fruits: Apple\n",
      "Current Fruits: Mango\n",
      "Current Fruits: Banana\n",
      "Good Bye!\n"
     ]
    }
   ],
   "source": [
    "fruits=['Apple','Mango','Banana']\n",
    "for f in fruits:\n",
    "    print('Current Fruits:',f)\n",
    "print(\"Good Bye!\")"
   ]
  },
  {
   "cell_type": "code",
   "execution_count": 11,
   "id": "62e79b51",
   "metadata": {},
   "outputs": [
    {
     "name": "stdout",
     "output_type": "stream",
     "text": [
      "0\n",
      "1\n",
      "2\n",
      "3\n",
      "4\n",
      "5\n"
     ]
    }
   ],
   "source": [
    "x=range(6)\n",
    "for n in x:\n",
    "    \n",
    "    print(n)"
   ]
  },
  {
   "cell_type": "code",
   "execution_count": 12,
   "id": "5bebc8c1",
   "metadata": {},
   "outputs": [
    {
     "name": "stdout",
     "output_type": "stream",
     "text": [
      "3\n",
      "5\n",
      "7\n",
      "9\n",
      "11\n",
      "13\n",
      "15\n",
      "17\n",
      "19\n",
      "21\n",
      "23\n"
     ]
    }
   ],
   "source": [
    "x=range(3,25,2)\n",
    "for i in x:\n",
    "    print(i)"
   ]
  },
  {
   "cell_type": "code",
   "execution_count": null,
   "id": "b4319e62",
   "metadata": {},
   "outputs": [],
   "source": []
  }
 ],
 "metadata": {
  "kernelspec": {
   "display_name": "Python 3",
   "language": "python",
   "name": "python3"
  },
  "language_info": {
   "codemirror_mode": {
    "name": "ipython",
    "version": 3
   },
   "file_extension": ".py",
   "mimetype": "text/x-python",
   "name": "python",
   "nbconvert_exporter": "python",
   "pygments_lexer": "ipython3",
   "version": "3.8.8"
  }
 },
 "nbformat": 4,
 "nbformat_minor": 5
}
