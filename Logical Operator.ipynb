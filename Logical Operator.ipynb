{
 "cells": [
  {
   "cell_type": "code",
   "execution_count": 8,
   "id": "612f8c07",
   "metadata": {},
   "outputs": [
    {
     "name": "stdout",
     "output_type": "stream",
     "text": [
      "The number are greter than 0\n",
      "Atlest one number is not greater than 0\n"
     ]
    }
   ],
   "source": [
    "a=12\n",
    "b=12\n",
    "c=-12\n",
    "\n",
    "if a>0 and b>0:\n",
    "    print(\"The number are greter than 0\")\n",
    "    if a>0 and b>0 and c>0:\n",
    "        print(\"The number are greter than 0\")\n",
    "    else:\n",
    "        print(\"Atlest one number is not greater than 0\")"
   ]
  },
  {
   "cell_type": "code",
   "execution_count": null,
   "id": "064f175d",
   "metadata": {},
   "outputs": [],
   "source": [
    "# Or operator Progarm"
   ]
  },
  {
   "cell_type": "code",
   "execution_count": 9,
   "id": "dd2defa0",
   "metadata": {},
   "outputs": [
    {
     "name": "stdout",
     "output_type": "stream",
     "text": [
      "At least one of x and y is positive number\n"
     ]
    }
   ],
   "source": [
    "x = 10\n",
    "y = 20\n",
    "\n",
    "if x > 0 or y > 0:\n",
    "    print('At least one of x and y is positive number')"
   ]
  },
  {
   "cell_type": "code",
   "execution_count": null,
   "id": "76020995",
   "metadata": {},
   "outputs": [],
   "source": [
    "# Not operator Progarm"
   ]
  },
  {
   "cell_type": "code",
   "execution_count": 10,
   "id": "fe1083a6",
   "metadata": {},
   "outputs": [
    {
     "name": "stdout",
     "output_type": "stream",
     "text": [
      "37 is not divisible by either 3 or 4\n"
     ]
    }
   ],
   "source": [
    "a = 37\n",
    "if not (a % 3 == 0 or a % 4 == 0):\n",
    "    print('37 is not divisible by either 3 or 4')"
   ]
  },
  {
   "cell_type": "code",
   "execution_count": null,
   "id": "470c2bfa",
   "metadata": {},
   "outputs": [],
   "source": []
  }
 ],
 "metadata": {
  "kernelspec": {
   "display_name": "Python 3",
   "language": "python",
   "name": "python3"
  },
  "language_info": {
   "codemirror_mode": {
    "name": "ipython",
    "version": 3
   },
   "file_extension": ".py",
   "mimetype": "text/x-python",
   "name": "python",
   "nbconvert_exporter": "python",
   "pygments_lexer": "ipython3",
   "version": "3.8.8"
  }
 },
 "nbformat": 4,
 "nbformat_minor": 5
}
