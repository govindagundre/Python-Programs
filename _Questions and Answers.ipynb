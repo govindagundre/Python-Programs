{
 "cells": [
  {
   "cell_type": "markdown",
   "id": "10748faf",
   "metadata": {},
   "source": [
    "How to import pandas ?"
   ]
  },
  {
   "cell_type": "code",
   "execution_count": null,
   "id": "3998c9a8",
   "metadata": {},
   "outputs": [],
   "source": [
    "import pandas as pd"
   ]
  },
  {
   "cell_type": "markdown",
   "id": "83ea5445",
   "metadata": {},
   "source": [
    "How to import Matplotlib "
   ]
  },
  {
   "cell_type": "code",
   "execution_count": null,
   "id": "5c6de6da",
   "metadata": {},
   "outputs": [],
   "source": [
    "import matplotlib.pyplot as plt"
   ]
  },
  {
   "cell_type": "markdown",
   "id": "91fdf65c",
   "metadata": {},
   "source": [
    "How to import Decision Tree Classifier ?"
   ]
  },
  {
   "cell_type": "code",
   "execution_count": null,
   "id": "b6353b4b",
   "metadata": {},
   "outputs": [],
   "source": [
    "from sklearn.tree import DecisionTreeClassifier"
   ]
  },
  {
   "cell_type": "markdown",
   "id": "733386f9",
   "metadata": {},
   "source": [
    "How to import Gaussian Naive Bayes "
   ]
  },
  {
   "cell_type": "code",
   "execution_count": null,
   "id": "42df29b1",
   "metadata": {},
   "outputs": [],
   "source": [
    "from sklearn.naive_bayes import GaussianNB"
   ]
  },
  {
   "cell_type": "markdown",
   "id": "a553e5cf",
   "metadata": {},
   "source": [
    "How to import  KNearest Neighbor classifier "
   ]
  },
  {
   "cell_type": "code",
   "execution_count": null,
   "id": "9a76c90a",
   "metadata": {},
   "outputs": [],
   "source": [
    "from sklearn.neighbors import KNeighborsClassifier"
   ]
  },
  {
   "cell_type": "markdown",
   "id": "20fce3c9",
   "metadata": {},
   "source": [
    "How to import  Random forest classifier ?"
   ]
  },
  {
   "cell_type": "code",
   "execution_count": null,
   "id": "6e99c66d",
   "metadata": {},
   "outputs": [],
   "source": [
    "from sklearn.ensemble import RandomForestClassifier"
   ]
  },
  {
   "cell_type": "markdown",
   "id": "c1bb3222",
   "metadata": {},
   "source": [
    "How to import linear regression and how to create object of it ?"
   ]
  },
  {
   "cell_type": "code",
   "execution_count": null,
   "id": "dec77e3f",
   "metadata": {},
   "outputs": [],
   "source": [
    "from sklearn import linear_model\n",
    "reg = linear_model.LinearRegression()"
   ]
  },
  {
   "cell_type": "markdown",
   "id": "4cae00f1",
   "metadata": {},
   "source": [
    "How to Read csv file ?\n"
   ]
  },
  {
   "cell_type": "markdown",
   "id": "dc4a55a8",
   "metadata": {},
   "source": [
    "df = pd.read_csv('iris_flowers.csv')"
   ]
  },
  {
   "cell_type": "markdown",
   "id": "c4ddd2b9",
   "metadata": {},
   "source": [
    "How to drop columns?\n"
   ]
  },
  {
   "cell_type": "code",
   "execution_count": null,
   "id": "7180c15f",
   "metadata": {},
   "outputs": [],
   "source": [
    "X = df.drop('class',axis='columns')"
   ]
  },
  {
   "cell_type": "markdown",
   "id": "c6c22b5b",
   "metadata": {},
   "source": [
    "how to show all columns ?"
   ]
  },
  {
   "cell_type": "code",
   "execution_count": null,
   "id": "5cf689e5",
   "metadata": {},
   "outputs": [],
   "source": [
    "df.columns"
   ]
  },
  {
   "cell_type": "markdown",
   "id": "68c7077e",
   "metadata": {},
   "source": [
    "How to show the import accuracy matrix \n",
    "\n"
   ]
  },
  {
   "cell_type": "code",
   "execution_count": null,
   "id": "d592abb5",
   "metadata": {},
   "outputs": [],
   "source": [
    "from sklearn.metrics import accuracy_score"
   ]
  },
  {
   "cell_type": "markdown",
   "id": "69803fc7",
   "metadata": {},
   "source": [
    "which function is used to show the accuray matrix ?"
   ]
  },
  {
   "cell_type": "code",
   "execution_count": null,
   "id": "13573a45",
   "metadata": {},
   "outputs": [],
   "source": [
    "score = accuracy_score(y_test,predictions)  \n",
    "score"
   ]
  },
  {
   "cell_type": "markdown",
   "id": "d526bd0a",
   "metadata": {},
   "source": [
    "How to instantitae the GassianNaive Bayes Classifier / How to create objet of GassianNaive Bayes Classifier "
   ]
  },
  {
   "cell_type": "code",
   "execution_count": null,
   "id": "8b3f8197",
   "metadata": {},
   "outputs": [],
   "source": [
    "model=GaussianNB()"
   ]
  },
  {
   "cell_type": "markdown",
   "id": "6fd5c6fd",
   "metadata": {},
   "source": [
    "How to create object of KNearest Neighbor classifier "
   ]
  },
  {
   "cell_type": "code",
   "execution_count": null,
   "id": "44f2098d",
   "metadata": {},
   "outputs": [],
   "source": [
    "model = KNeighborsClassifier(n_neighbors=2)"
   ]
  },
  {
   "cell_type": "markdown",
   "id": "022f3879",
   "metadata": {},
   "source": [
    "How to create object of Decision Tree Classifier"
   ]
  },
  {
   "cell_type": "code",
   "execution_count": null,
   "id": "6cec9866",
   "metadata": {},
   "outputs": [],
   "source": [
    "model= DecisionTreeClassifier()"
   ]
  },
  {
   "cell_type": "markdown",
   "id": "3c86b98b",
   "metadata": {},
   "source": [
    "How to create object of Random forest Classifier"
   ]
  },
  {
   "cell_type": "code",
   "execution_count": null,
   "id": "d848f228",
   "metadata": {},
   "outputs": [],
   "source": [
    "rfc = RandomForestClassifier(n_estimators=100)"
   ]
  },
  {
   "cell_type": "markdown",
   "id": "a4a6a78d",
   "metadata": {},
   "source": [
    "How to make copy of dataframe?"
   ]
  },
  {
   "cell_type": "code",
   "execution_count": null,
   "id": "f7362b70",
   "metadata": {},
   "outputs": [],
   "source": [
    "bank2=bank.copy()"
   ]
  },
  {
   "cell_type": "markdown",
   "id": "40d734de",
   "metadata": {},
   "source": [
    "How to drop some features which are not important"
   ]
  },
  {
   "cell_type": "code",
   "execution_count": null,
   "id": "45056f22",
   "metadata": {},
   "outputs": [],
   "source": [
    "#drop some features which are not important\n",
    "bank.drop(['RowNumber','CustomerId','Surname'],axis=1,inplace=True)"
   ]
  },
  {
   "cell_type": "markdown",
   "id": "7384ed0b",
   "metadata": {},
   "source": [
    "How to create outout data y for output feature "
   ]
  },
  {
   "cell_type": "code",
   "execution_count": null,
   "id": "e30ae677",
   "metadata": {},
   "outputs": [],
   "source": [
    "y= df[\"class\"]"
   ]
  },
  {
   "cell_type": "markdown",
   "id": "3a610d78",
   "metadata": {},
   "source": [
    "How to import train test split module ?"
   ]
  },
  {
   "cell_type": "code",
   "execution_count": null,
   "id": "427de74d",
   "metadata": {},
   "outputs": [],
   "source": [
    "from sklearn.model_selection import train_test_split\n"
   ]
  },
  {
   "cell_type": "markdown",
   "id": "b6cac608",
   "metadata": {},
   "source": [
    "How to use train test split function to split dataset into training dataset and testing dataset "
   ]
  },
  {
   "cell_type": "code",
   "execution_count": null,
   "id": "67400340",
   "metadata": {},
   "outputs": [],
   "source": [
    "X_train,X_test,y_train,y_test =train_test_split(X,y,test_size=0.2)"
   ]
  },
  {
   "cell_type": "markdown",
   "id": "7887ded3",
   "metadata": {},
   "source": [
    "How to train model using training data and testting data ?"
   ]
  },
  {
   "cell_type": "code",
   "execution_count": null,
   "id": "ab055ac9",
   "metadata": {},
   "outputs": [],
   "source": [
    "model= model.fit(X_train,y_train)\n",
    "predictions =model.predict(X_test)"
   ]
  },
  {
   "cell_type": "markdown",
   "id": "60dc339c",
   "metadata": {},
   "source": [
    "How to train model using complete dataset ?"
   ]
  },
  {
   "cell_type": "code",
   "execution_count": null,
   "id": "e01b1778",
   "metadata": {},
   "outputs": [],
   "source": [
    "model= model.fit(X,y)"
   ]
  },
  {
   "cell_type": "markdown",
   "id": "4bcc9a33",
   "metadata": {},
   "source": [
    "How to check accuracy score of model?"
   ]
  },
  {
   "cell_type": "code",
   "execution_count": null,
   "id": "8624ec5a",
   "metadata": {},
   "outputs": [],
   "source": [
    "from sklearn.metrics import accuracy_score \n",
    "score = accuracy_score(y_test,predictions)  \n",
    "score"
   ]
  },
  {
   "cell_type": "markdown",
   "id": "722b1e81",
   "metadata": {},
   "source": [
    "How to use model for  prediction?"
   ]
  },
  {
   "cell_type": "code",
   "execution_count": null,
   "id": "ebef0c26",
   "metadata": {},
   "outputs": [],
   "source": [
    "prediction =model.predict([[5.1,3.5,3.4,2.4]])\n",
    "prediction"
   ]
  },
  {
   "cell_type": "markdown",
   "id": "a3995695",
   "metadata": {},
   "source": [
    "How to import confusion matrix, confusionmatrixdisplay and classification report?"
   ]
  },
  {
   "cell_type": "code",
   "execution_count": null,
   "id": "4cc1a8a1",
   "metadata": {},
   "outputs": [],
   "source": [
    "from sklearn.metrics import confusion_matrix, ConfusionMatrixDisplay,classification_report"
   ]
  },
  {
   "cell_type": "markdown",
   "id": "58c0e2ef",
   "metadata": {},
   "source": [
    "How to create confusion matrix ?"
   ]
  },
  {
   "cell_type": "code",
   "execution_count": null,
   "id": "c9b74d6c",
   "metadata": {},
   "outputs": [],
   "source": [
    "predictions =model.predict(X_test)\n",
    "c=confusion_matrix(y_test,predictions)\n",
    "c"
   ]
  },
  {
   "cell_type": "markdown",
   "id": "177e1e7e",
   "metadata": {},
   "source": [
    "How to dispaly confusion matrix using matplotlib ?"
   ]
  },
  {
   "cell_type": "code",
   "execution_count": null,
   "id": "56ebb054",
   "metadata": {},
   "outputs": [],
   "source": [
    "disp = ConfusionMatrixDisplay(confusion_matrix=c, display_labels=model.classes_)\n",
    "disp.plot()\n",
    "plt.show()"
   ]
  },
  {
   "cell_type": "markdown",
   "id": "16bcc5c8",
   "metadata": {},
   "source": [
    "How to display confusion matrix classification report ?"
   ]
  },
  {
   "cell_type": "code",
   "execution_count": null,
   "id": "8b1a616f",
   "metadata": {},
   "outputs": [],
   "source": [
    "print(classification_report(y_test,predictions))"
   ]
  },
  {
   "cell_type": "markdown",
   "id": "a0e1a45e",
   "metadata": {},
   "source": [
    "How to use KFold validation on model ?"
   ]
  },
  {
   "cell_type": "code",
   "execution_count": null,
   "id": "f1914d7e",
   "metadata": {},
   "outputs": [],
   "source": [
    "!pip install xgboost # install xgboost \n",
    "from sklearn.model_selection import KFold\n",
    "from sklearn.model_selection import cross_val_score\n",
    "\n",
    "#model=RandomForestClassifier() change the classifier name for classifer of different algorithm  \n",
    "model=DecisionTreeClassifier()\n",
    "\n",
    "k_fold_validation=KFold(n_splits=5)\n",
    "\n",
    "result=cross_val_score(model,X,y,cv=k_fold_validation)\n",
    "print(str(k_fold_validation))\n",
    "print('\\nDecisionTreeClassifier cross_val_score',result)\n",
    "print('\\nMin',result.min(),'Max',result.max(),'Avg',result.mean())\n"
   ]
  },
  {
   "cell_type": "markdown",
   "id": "0e88cbef",
   "metadata": {},
   "source": [
    "How to calculate run time of code "
   ]
  },
  {
   "cell_type": "code",
   "execution_count": null,
   "id": "c474bbc8",
   "metadata": {},
   "outputs": [],
   "source": [
    "import time \n",
    "begin = time.time()\n",
    "end = time.time()\n",
    "print(f\"Total runtime of the program is {end - begin}\")"
   ]
  },
  {
   "cell_type": "markdown",
   "id": "98ee1cdb",
   "metadata": {},
   "source": [
    "How to calculate the run time of single line of code ?"
   ]
  },
  {
   "cell_type": "code",
   "execution_count": null,
   "id": "ce34f434",
   "metadata": {},
   "outputs": [],
   "source": [
    "%time print('DecisionTreeClassifier score',result)"
   ]
  },
  {
   "cell_type": "markdown",
   "id": "9aa64894",
   "metadata": {},
   "source": [
    "How to display graph for counts of output column using seaborn "
   ]
  },
  {
   "cell_type": "code",
   "execution_count": null,
   "id": "0868cce5",
   "metadata": {},
   "outputs": [],
   "source": [
    "import seaborn as sns\n",
    "sns.countplot(x=\"Swarm_Behaviour\", data=df)"
   ]
  },
  {
   "cell_type": "markdown",
   "id": "433ac3fb",
   "metadata": {},
   "source": [
    "How to draw scatter plot "
   ]
  },
  {
   "cell_type": "code",
   "execution_count": null,
   "id": "2e54f883",
   "metadata": {},
   "outputs": [],
   "source": [
    "from matplotlib import pyplot as plt\n",
    "plt.scatter(df.age,df.bought_insurance,marker='+',color='red')"
   ]
  },
  {
   "cell_type": "markdown",
   "id": "cf327996",
   "metadata": {},
   "source": [
    "What is use of  %matplotlib inline\" command ? \n",
    "%matplotlib inline turns on “inline plotting”, where plot graphics will appear in your notebook.%matplotlib is a magic function in IPython. "
   ]
  },
  {
   "cell_type": "markdown",
   "id": "ed83fd63",
   "metadata": {},
   "source": [
    "model.coef_ indicates value of m in y=m*x + b equation"
   ]
  },
  {
   "cell_type": "code",
   "execution_count": null,
   "id": "d36fa1ce",
   "metadata": {},
   "outputs": [],
   "source": [
    "model.coef_"
   ]
  },
  {
   "cell_type": "markdown",
   "id": "db6ce706",
   "metadata": {},
   "source": [
    "model.intercept_ indicates value of b in y=m*x + b equation"
   ]
  },
  {
   "cell_type": "code",
   "execution_count": null,
   "id": "2cb0ceb7",
   "metadata": {},
   "outputs": [],
   "source": [
    "model.intercept_"
   ]
  },
  {
   "cell_type": "markdown",
   "id": "3a499f3c",
   "metadata": {},
   "source": [
    "Define Sigmoid function in logistic regression  ?"
   ]
  },
  {
   "cell_type": "code",
   "execution_count": null,
   "id": "588a049c",
   "metadata": {},
   "outputs": [],
   "source": [
    "import math\n",
    "def sigmoid(x):\n",
    "  return 1 / (1 + math.exp(-x))"
   ]
  },
  {
   "cell_type": "markdown",
   "id": "3c79c7cc",
   "metadata": {},
   "source": [
    "How to define and use the prediction function"
   ]
  },
  {
   "cell_type": "code",
   "execution_count": null,
   "id": "efd00c04",
   "metadata": {},
   "outputs": [],
   "source": [
    "#define prediction function \n",
    "def prediction_function(age):\n",
    "    z = 0.042 * age - 1.53 # 0.04150133 ~ 0.042 and -1.52726963 ~ -1.53\n",
    "    y = sigmoid(z)\n",
    "    return y\n",
    "### give age valuse \n",
    "age = 35\n",
    "prediction_function(age)"
   ]
  },
  {
   "cell_type": "markdown",
   "id": "b00e7001",
   "metadata": {},
   "source": [
    "Read data with nan values "
   ]
  },
  {
   "cell_type": "code",
   "execution_count": null,
   "id": "a946c3ae",
   "metadata": {},
   "outputs": [],
   "source": [
    "df = pd.read_csv(\"stock_data.csv\", na_values=[\"n.a.\", \"not available\"])\n",
    "df"
   ]
  },
  {
   "cell_type": "markdown",
   "id": "23b405d3",
   "metadata": {},
   "source": [
    "Read data with nan,-1  values of particular columns "
   ]
  },
  {
   "cell_type": "code",
   "execution_count": null,
   "id": "10c568db",
   "metadata": {},
   "outputs": [],
   "source": [
    "df = pd.read_csv(\"stock_data.csv\",  na_values={\n",
    "        'eps': ['not available'],\n",
    "        'revenue': [-1],\n",
    "        'people': ['not available','n.a.']\n",
    "    })\n",
    "df"
   ]
  },
  {
   "cell_type": "markdown",
   "id": "96c60e6d",
   "metadata": {},
   "source": [
    "Read csv with skipining the header row "
   ]
  },
  {
   "cell_type": "code",
   "execution_count": null,
   "id": "175d7582",
   "metadata": {},
   "outputs": [],
   "source": [
    "df = pd.read_csv(\"stock_data.csv\", skiprows=1)\n",
    "df"
   ]
  },
  {
   "cell_type": "code",
   "execution_count": null,
   "id": "a3e51de3",
   "metadata": {},
   "outputs": [],
   "source": [
    "df = pd.read_csv(\"stock_data.csv\", header=1) # skiprows and header are kind of same\n",
    "df"
   ]
  },
  {
   "cell_type": "markdown",
   "id": "4b3c1fe4",
   "metadata": {},
   "source": [
    "Read csv file with assignining new headers "
   ]
  },
  {
   "cell_type": "code",
   "execution_count": null,
   "id": "817803b8",
   "metadata": {},
   "outputs": [],
   "source": [
    "df = pd.read_csv(\"stock_data.csv\", header=None, names = [\"ticker\",\"eps\",\"revenue\",\"people\"])\n",
    "df"
   ]
  },
  {
   "cell_type": "markdown",
   "id": "e9ec7c91",
   "metadata": {},
   "source": [
    "Read excel file "
   ]
  },
  {
   "cell_type": "code",
   "execution_count": null,
   "id": "fbd9cd24",
   "metadata": {},
   "outputs": [],
   "source": [
    "df = pd.read_excel(\"stock_data.xlsx\",\"Sheet1\")\n",
    "df"
   ]
  },
  {
   "cell_type": "markdown",
   "id": "0c194aa4",
   "metadata": {},
   "source": [
    "Write data to another csv file without index "
   ]
  },
  {
   "cell_type": "code",
   "execution_count": null,
   "id": "033b1b5a",
   "metadata": {},
   "outputs": [],
   "source": [
    "df.to_csv(\"new.csv\", index=False)"
   ]
  },
  {
   "cell_type": "markdown",
   "id": "cbc9e054",
   "metadata": {},
   "source": [
    "write file data without header "
   ]
  },
  {
   "cell_type": "code",
   "execution_count": null,
   "id": "71ed212a",
   "metadata": {},
   "outputs": [],
   "source": [
    "df.to_csv(\"new.csv\",header=False)"
   ]
  },
  {
   "cell_type": "markdown",
   "id": "73bd060f",
   "metadata": {},
   "source": [
    "write file data with specific columns "
   ]
  },
  {
   "cell_type": "code",
   "execution_count": null,
   "id": "68706255",
   "metadata": {},
   "outputs": [],
   "source": [
    "df.to_csv(\"new.csv\", columns=[\"tickers\",\"price\"], index=False)"
   ]
  },
  {
   "cell_type": "markdown",
   "id": "9d4354f1",
   "metadata": {},
   "source": [
    "write to excel file "
   ]
  },
  {
   "cell_type": "code",
   "execution_count": null,
   "id": "c22e6d8e",
   "metadata": {},
   "outputs": [],
   "source": [
    "df.to_excel(\"new.xlsx\", sheet_name=\"stocks\", index=False, startrow=2, startcol=1)"
   ]
  },
  {
   "cell_type": "markdown",
   "id": "0d683b24",
   "metadata": {},
   "source": [
    "how to display number of rows and number of columns of dataframe in pandas ?"
   ]
  },
  {
   "cell_type": "code",
   "execution_count": null,
   "id": "0a6d1f46",
   "metadata": {},
   "outputs": [],
   "source": [
    "df.shape # rows, columns = df.shape"
   ]
  },
  {
   "cell_type": "markdown",
   "id": "a9655b10",
   "metadata": {},
   "source": [
    "How to display top records of dataframe "
   ]
  },
  {
   "cell_type": "code",
   "execution_count": null,
   "id": "383f7bb1",
   "metadata": {},
   "outputs": [],
   "source": [
    "df.head() # df.head(3)"
   ]
  },
  {
   "cell_type": "markdown",
   "id": "c9a24f30",
   "metadata": {},
   "source": [
    "How to display bottom records of dataframe"
   ]
  },
  {
   "cell_type": "code",
   "execution_count": null,
   "id": "af6e7120",
   "metadata": {},
   "outputs": [],
   "source": [
    "df.tail() # df.tail(3)"
   ]
  },
  {
   "cell_type": "markdown",
   "id": "05481602",
   "metadata": {},
   "source": [
    "how to display row no 1 and row no 2 of dataframe ?"
   ]
  },
  {
   "cell_type": "code",
   "execution_count": null,
   "id": "3242dfe3",
   "metadata": {},
   "outputs": [],
   "source": [
    "df[1:3]"
   ]
  },
  {
   "cell_type": "markdown",
   "id": "4761dfbd",
   "metadata": {},
   "source": [
    "How to show all columns ?"
   ]
  },
  {
   "cell_type": "code",
   "execution_count": null,
   "id": "bdf6f846",
   "metadata": {},
   "outputs": [],
   "source": [
    "df.columns \n",
    "#Index(['day', 'temperature', 'windspeed', 'event'], dtype='object')\n"
   ]
  },
  {
   "cell_type": "markdown",
   "id": "bafbd1f8",
   "metadata": {},
   "source": [
    "How to display particular columns ?"
   ]
  },
  {
   "cell_type": "code",
   "execution_count": null,
   "id": "eb039c08",
   "metadata": {},
   "outputs": [],
   "source": [
    "df['day']  # or df.day  # It dispaly the records of day column"
   ]
  },
  {
   "cell_type": "markdown",
   "id": "02491e7f",
   "metadata": {},
   "source": [
    "How to select/ display multiple columns ?"
   ]
  },
  {
   "cell_type": "code",
   "execution_count": null,
   "id": "3a44c15f",
   "metadata": {},
   "outputs": [],
   "source": [
    "df[['day','temperature']]"
   ]
  },
  {
   "cell_type": "markdown",
   "id": "1ab15bff",
   "metadata": {},
   "source": [
    "how to Display type of particular column?"
   ]
  },
  {
   "cell_type": "code",
   "execution_count": null,
   "id": "ce71e798",
   "metadata": {},
   "outputs": [],
   "source": [
    "type(df['day'])"
   ]
  },
  {
   "cell_type": "markdown",
   "id": "7c791358",
   "metadata": {},
   "source": [
    "Operations on DataFrames "
   ]
  },
  {
   "cell_type": "markdown",
   "id": "441b2191",
   "metadata": {},
   "source": [
    "how to find maximum value of column ?"
   ]
  },
  {
   "cell_type": "code",
   "execution_count": null,
   "id": "6c46aa43",
   "metadata": {},
   "outputs": [],
   "source": [
    "df['temperature'].max()"
   ]
  },
  {
   "cell_type": "markdown",
   "id": "b82ec624",
   "metadata": {},
   "source": [
    "how to find minimum value of column ?"
   ]
  },
  {
   "cell_type": "code",
   "execution_count": null,
   "id": "26b313b9",
   "metadata": {},
   "outputs": [],
   "source": [
    "df['temperature'].min()"
   ]
  },
  {
   "cell_type": "markdown",
   "id": "4a03e702",
   "metadata": {},
   "source": [
    "Find data with filter criteria as age > 32 "
   ]
  },
  {
   "cell_type": "code",
   "execution_count": null,
   "id": "68a21033",
   "metadata": {},
   "outputs": [],
   "source": [
    "df[df['temperature']>32] "
   ]
  },
  {
   "cell_type": "code",
   "execution_count": null,
   "id": "b8b75265",
   "metadata": {},
   "outputs": [],
   "source": [
    "df[df['temperature'] == df['temperature'].max()] # Kinda doing SQL in pandas"
   ]
  },
  {
   "cell_type": "markdown",
   "id": "05489821",
   "metadata": {},
   "source": [
    "How to display Statistical  values of dataset "
   ]
  },
  {
   "cell_type": "code",
   "execution_count": null,
   "id": "0b56022d",
   "metadata": {},
   "outputs": [],
   "source": [
    "df.describe()"
   ]
  },
  {
   "cell_type": "markdown",
   "id": "0a11e8e6",
   "metadata": {},
   "source": [
    "How to show the details about dataframe ?"
   ]
  },
  {
   "cell_type": "code",
   "execution_count": null,
   "id": "0e60de81",
   "metadata": {},
   "outputs": [],
   "source": [
    "data.info()"
   ]
  },
  {
   "cell_type": "markdown",
   "id": "aeac09a9",
   "metadata": {},
   "source": [
    "how to set index as day column instaed of defalut index 0 "
   ]
  },
  {
   "cell_type": "code",
   "execution_count": null,
   "id": "3c80d8af",
   "metadata": {},
   "outputs": [],
   "source": [
    "df.set_index('day') # it sets index temparary "
   ]
  },
  {
   "cell_type": "code",
   "execution_count": null,
   "id": "1427320e",
   "metadata": {},
   "outputs": [],
   "source": [
    "df.set_index('day', inplace=True)  # it sets index forever "
   ]
  },
  {
   "cell_type": "code",
   "execution_count": null,
   "id": "264689ba",
   "metadata": {},
   "outputs": [],
   "source": [
    "df.set_index('event',inplace=True) # this is kind of building a hash map using event as a key\n",
    "df"
   ]
  },
  {
   "cell_type": "markdown",
   "id": "67a34a88",
   "metadata": {},
   "source": [
    "How to display index of dataframe ?"
   ]
  },
  {
   "cell_type": "code",
   "execution_count": null,
   "id": "19c58daa",
   "metadata": {},
   "outputs": [],
   "source": [
    "df.index "
   ]
  },
  {
   "cell_type": "markdown",
   "id": "0059e319",
   "metadata": {},
   "source": [
    "how to reach to particular index location and display its data  "
   ]
  },
  {
   "cell_type": "code",
   "execution_count": null,
   "id": "e798378c",
   "metadata": {},
   "outputs": [],
   "source": [
    "df.loc['1/2/2017']\n",
    "\n",
    "# It will dispaly output like : \n",
    "#temperature       35\n",
    "#windspeed          7\n",
    "#event          Sunny\n",
    "#Name: 1/2/2017, dtype: object"
   ]
  },
  {
   "cell_type": "markdown",
   "id": "81bc7ecd",
   "metadata": {},
   "source": [
    "How to reset index ?"
   ]
  },
  {
   "cell_type": "code",
   "execution_count": null,
   "id": "872c79d8",
   "metadata": {},
   "outputs": [],
   "source": [
    "df.reset_index(inplace=True)"
   ]
  },
  {
   "cell_type": "markdown",
   "id": "6701d68b",
   "metadata": {},
   "source": [
    "how to read data using dictionary "
   ]
  },
  {
   "cell_type": "code",
   "execution_count": null,
   "id": "b907a0d7",
   "metadata": {},
   "outputs": [],
   "source": [
    "import pandas as pd\n",
    "weather_data = {\n",
    "    'day': ['1/1/2017','1/2/2017','1/3/2017'],\n",
    "    'temperature': [32,35,28],\n",
    "    'windspeed': [6,7,2],\n",
    "    'event': ['Rain', 'Sunny', 'Snow']\n",
    "}\n",
    "df = pd.DataFrame(weather_data)\n",
    "df"
   ]
  },
  {
   "cell_type": "markdown",
   "id": "6af3e369",
   "metadata": {},
   "source": [
    "how to read data Using tuples list ?"
   ]
  },
  {
   "cell_type": "code",
   "execution_count": null,
   "id": "1d36a09c",
   "metadata": {},
   "outputs": [],
   "source": [
    "weather_data = [\n",
    "    ('1/1/2017',32,6,'Rain'),\n",
    "    ('1/2/2017',35,7,'Sunny'),\n",
    "    ('1/3/2017',28,2,'Snow')\n",
    "]\n",
    "df = pd.DataFrame(data=weather_data, columns=['day','temperature','windspeed','event'])\n",
    "df"
   ]
  },
  {
   "cell_type": "markdown",
   "id": "d903b126",
   "metadata": {},
   "source": [
    "how to read data Using list of dictionaries"
   ]
  },
  {
   "cell_type": "code",
   "execution_count": null,
   "id": "0eaa263e",
   "metadata": {},
   "outputs": [],
   "source": [
    "weather_data = [\n",
    "    {'day': '1/1/2017', 'temperature': 32, 'windspeed': 6, 'event': 'Rain'},\n",
    "    {'day': '1/2/2017', 'temperature': 35, 'windspeed': 7, 'event': 'Sunny'},\n",
    "    {'day': '1/3/2017', 'temperature': 28, 'windspeed': 2, 'event': 'Snow'},\n",
    "    \n",
    "]\n",
    "df = pd.DataFrame(data=weather_data, columns=['day','temperature','windspeed','event'])\n",
    "df"
   ]
  },
  {
   "cell_type": "markdown",
   "id": "04dcb6fa",
   "metadata": {},
   "source": [
    "fillna...\n",
    "How to Fill all NaN with one specific value"
   ]
  },
  {
   "cell_type": "code",
   "execution_count": null,
   "id": "7fbdf323",
   "metadata": {},
   "outputs": [],
   "source": [
    "new_df = df.fillna(0) # It fills NaN values with zero 0\n",
    "new_df"
   ]
  },
  {
   "cell_type": "code",
   "execution_count": null,
   "id": "7e6a31b0",
   "metadata": {},
   "outputs": [],
   "source": [
    "music_data.iloc[2, 1] = '1.0'     # it finds index location and fill value as 1.0 at that index location"
   ]
  },
  {
   "cell_type": "code",
   "execution_count": null,
   "id": "671faac6",
   "metadata": {},
   "outputs": [],
   "source": [
    "music_data[\"genre\"] = music_data[\"genre\"].fillna('Classical')"
   ]
  },
  {
   "cell_type": "code",
   "execution_count": null,
   "id": "a1a137c5",
   "metadata": {},
   "outputs": [],
   "source": [
    "music_data[\"gender\"] = music_data[\"gender\"].fillna(0)"
   ]
  },
  {
   "cell_type": "markdown",
   "id": "e1d5402b",
   "metadata": {},
   "source": [
    "how to Fill na using column names and dict?  "
   ]
  },
  {
   "cell_type": "code",
   "execution_count": null,
   "id": "5c8388d1",
   "metadata": {},
   "outputs": [],
   "source": [
    "# this will fill NaN values of temperature feature with zero 0 , windspeed feature with 0 and vent with No Event \n",
    "new_df = df.fillna({\n",
    "        'temperature': 0,\n",
    "        'windspeed': 0,\n",
    "        'event': 'No Event'\n",
    "    })\n",
    "new_df"
   ]
  },
  {
   "cell_type": "markdown",
   "id": "b1c7392a",
   "metadata": {},
   "source": [
    "Use method to determine how to fill na values??"
   ]
  },
  {
   "cell_type": "code",
   "execution_count": null,
   "id": "09218e2d",
   "metadata": {},
   "outputs": [],
   "source": [
    "new_df = df.fillna(method=\"ffill\") #method='ffill': Ffill or forward-fill propagates the last observed non-null value forward until another non-null value is encountered.\n",
    "new_df"
   ]
  },
  {
   "cell_type": "code",
   "execution_count": null,
   "id": "81cea9fa",
   "metadata": {},
   "outputs": [],
   "source": [
    "new_df = df.fillna(method=\"bfill\") # method='bfill': Bfill or backward-fill propagates the first observed non-null value backward until another non-null value is met.\n",
    "new_df"
   ]
  },
  {
   "cell_type": "code",
   "execution_count": null,
   "id": "647f288c",
   "metadata": {},
   "outputs": [],
   "source": [
    "new_df = df.fillna(method=\"bfill\", axis=\"columns\") # axis is either \"index\" or \"columns\"\n",
    "new_df"
   ]
  },
  {
   "cell_type": "markdown",
   "id": "d2828a11",
   "metadata": {},
   "source": [
    "limit parameter"
   ]
  },
  {
   "cell_type": "code",
   "execution_count": null,
   "id": "693ef3b8",
   "metadata": {},
   "outputs": [],
   "source": [
    "new_df = df.fillna(method=\"ffill\",limit=1) \n",
    "new_df"
   ]
  },
  {
   "cell_type": "markdown",
   "id": "0355aa5a",
   "metadata": {},
   "source": [
    "Fill NaN value of particular column with median()"
   ]
  },
  {
   "cell_type": "code",
   "execution_count": null,
   "id": "37bc3719",
   "metadata": {},
   "outputs": [],
   "source": [
    "df.bedrooms = df.bedrooms.fillna(df.bedrooms.median())\n",
    "df"
   ]
  },
  {
   "cell_type": "markdown",
   "id": "70005d9d",
   "metadata": {},
   "source": [
    "dropna..\n"
   ]
  },
  {
   "cell_type": "code",
   "execution_count": null,
   "id": "cf24f188",
   "metadata": {},
   "outputs": [],
   "source": [
    "new_df = df.dropna() # It drops NaN records and shows the remaining records \n",
    "new_df"
   ]
  },
  {
   "cell_type": "code",
   "execution_count": null,
   "id": "aade7c09",
   "metadata": {},
   "outputs": [],
   "source": [
    "new_df = df.dropna(how='all') # It shows all NaN records \n",
    "new_df"
   ]
  },
  {
   "cell_type": "code",
   "execution_count": null,
   "id": "23a48de3",
   "metadata": {},
   "outputs": [],
   "source": [
    "X= music_data.drop(columns=['genre'])"
   ]
  },
  {
   "cell_type": "markdown",
   "id": "e46b3ee9",
   "metadata": {},
   "source": [
    "Replacing single value"
   ]
  },
  {
   "cell_type": "code",
   "execution_count": null,
   "id": "7fa5ecff",
   "metadata": {},
   "outputs": [],
   "source": [
    "new_df = df.replace(-99999, value=np.NaN)\n",
    "new_df"
   ]
  },
  {
   "cell_type": "markdown",
   "id": "73beefb3",
   "metadata": {},
   "source": [
    "Replacing list with single value"
   ]
  },
  {
   "cell_type": "code",
   "execution_count": null,
   "id": "770419cf",
   "metadata": {},
   "outputs": [],
   "source": [
    "new_df = df.replace(to_replace=[-99999,-88888], value=0)\n",
    "new_df"
   ]
  },
  {
   "cell_type": "markdown",
   "id": "5c818dbc",
   "metadata": {},
   "source": [
    "Replacing per column with NaN"
   ]
  },
  {
   "cell_type": "code",
   "execution_count": null,
   "id": "7925133f",
   "metadata": {},
   "outputs": [],
   "source": [
    "new_df = df.replace({\n",
    "        'temperature': -99999,\n",
    "        'windspeed': -99999,\n",
    "        'event': '0'\n",
    "    }, np.nan)\n",
    "new_df"
   ]
  },
  {
   "cell_type": "code",
   "execution_count": null,
   "id": "d77e2f9e",
   "metadata": {},
   "outputs": [],
   "source": [
    "df.replace(['poor', 'average', 'good', 'exceptional'], [1,2,3,4])"
   ]
  },
  {
   "cell_type": "markdown",
   "id": "ffd111b6",
   "metadata": {},
   "source": [
    "gorupby "
   ]
  },
  {
   "cell_type": "code",
   "execution_count": null,
   "id": "bd785981",
   "metadata": {},
   "outputs": [],
   "source": [
    "g = df.groupby(\"city\")\n",
    "g"
   ]
  },
  {
   "cell_type": "code",
   "execution_count": null,
   "id": "09c0adaf",
   "metadata": {},
   "outputs": [],
   "source": [
    "g.get_group('mumbai')"
   ]
  },
  {
   "cell_type": "code",
   "execution_count": null,
   "id": "664203c6",
   "metadata": {},
   "outputs": [],
   "source": [
    "g.max()"
   ]
  },
  {
   "cell_type": "code",
   "execution_count": null,
   "id": "7813847e",
   "metadata": {},
   "outputs": [],
   "source": [
    "g.mean()"
   ]
  },
  {
   "cell_type": "code",
   "execution_count": null,
   "id": "b3b7bddf",
   "metadata": {},
   "outputs": [],
   "source": [
    "g.min()"
   ]
  },
  {
   "cell_type": "code",
   "execution_count": null,
   "id": "c6a83771",
   "metadata": {},
   "outputs": [],
   "source": [
    "g.describe()"
   ]
  },
  {
   "cell_type": "code",
   "execution_count": null,
   "id": "2db930f5",
   "metadata": {},
   "outputs": [],
   "source": [
    "g.size()"
   ]
  },
  {
   "cell_type": "code",
   "execution_count": null,
   "id": "a94cb018",
   "metadata": {},
   "outputs": [],
   "source": [
    "g.count()"
   ]
  },
  {
   "cell_type": "markdown",
   "id": "e0157d2d",
   "metadata": {},
   "source": [
    "Merge"
   ]
  },
  {
   "cell_type": "code",
   "execution_count": null,
   "id": "68c48b64",
   "metadata": {},
   "outputs": [],
   "source": [
    "df3 = pd.merge(df1, df2, on=\"city\")"
   ]
  },
  {
   "cell_type": "code",
   "execution_count": null,
   "id": "4a429330",
   "metadata": {},
   "outputs": [],
   "source": [
    "df3=pd.merge(df1,df2,on=\"city\",how=\"inner\")"
   ]
  },
  {
   "cell_type": "code",
   "execution_count": null,
   "id": "8a1823ce",
   "metadata": {},
   "outputs": [],
   "source": [
    "df3=pd.merge(df1,df2,on=\"city\",how=\"outer\")"
   ]
  },
  {
   "cell_type": "code",
   "execution_count": null,
   "id": "b2cc13d3",
   "metadata": {},
   "outputs": [],
   "source": [
    "df3=pd.merge(df1,df2,on=\"city\",how=\"left\")"
   ]
  },
  {
   "cell_type": "code",
   "execution_count": null,
   "id": "44e6838c",
   "metadata": {},
   "outputs": [],
   "source": [
    "df3=pd.merge(df1,df2,on=\"city\",how=\"right\")"
   ]
  },
  {
   "cell_type": "markdown",
   "id": "48bbd665",
   "metadata": {},
   "source": [
    "How to save model to .jonlib?"
   ]
  },
  {
   "cell_type": "code",
   "execution_count": null,
   "id": "9c67474b",
   "metadata": {},
   "outputs": [],
   "source": [
    "import joblib as jb\n",
    "jb.dump(model,'music-recommender.joblib')\n",
    "\n"
   ]
  },
  {
   "cell_type": "markdown",
   "id": "c5303463",
   "metadata": {},
   "source": [
    "How to import .joblib file of saved model for prediction? "
   ]
  },
  {
   "cell_type": "code",
   "execution_count": null,
   "id": "14532571",
   "metadata": {},
   "outputs": [],
   "source": [
    "model = jb.load('music-recommender.joblib')"
   ]
  },
  {
   "cell_type": "code",
   "execution_count": null,
   "id": "e75f1d96",
   "metadata": {},
   "outputs": [],
   "source": [
    "#Save model with pickle\n",
    "filename = 'finalized_model.sav'\n",
    "pickle.dump(model, open(filename, 'wb'))\n",
    "# load the model from disk\n",
    "loaded_model = pickle.load(open(filename, 'rb'))\n",
    "result = loaded_model.score(X_test, Y_test)\n",
    "print(result)"
   ]
  },
  {
   "cell_type": "markdown",
   "id": "5535456d",
   "metadata": {},
   "source": [
    "How to check correlation of all features ?"
   ]
  },
  {
   "cell_type": "code",
   "execution_count": null,
   "id": "4a3c5d06",
   "metadata": {},
   "outputs": [],
   "source": [
    "df.corr(method ='pearson')\n",
    "#df.corr(method ='kendall')\n",
    "#df.corr()"
   ]
  },
  {
   "cell_type": "markdown",
   "id": "767eb10f",
   "metadata": {},
   "source": [
    "How to check corelation between two features ?"
   ]
  },
  {
   "cell_type": "code",
   "execution_count": null,
   "id": "b8539d2f",
   "metadata": {},
   "outputs": [],
   "source": [
    "df[['radius_mean','texture_mean']].corr() "
   ]
  },
  {
   "cell_type": "code",
   "execution_count": null,
   "id": "ce85f8e1",
   "metadata": {},
   "outputs": [],
   "source": [
    "from scipy.stats import pearsonr\n",
    "corr, _ = pearsonr(x, y)\n",
    "print('Pearsons correlation: %.3f' % corr)"
   ]
  },
  {
   "cell_type": "markdown",
   "id": "1381f8d0",
   "metadata": {},
   "source": [
    "How to draw scatter plot ?"
   ]
  },
  {
   "cell_type": "code",
   "execution_count": null,
   "id": "78b004ca",
   "metadata": {},
   "outputs": [],
   "source": [
    "x=df['YearsExperience']\n",
    "y=df['Salary']\n",
    "\n",
    "plt.scatter(x,y)"
   ]
  },
  {
   "cell_type": "code",
   "execution_count": null,
   "id": "39ffbe34",
   "metadata": {},
   "outputs": [],
   "source": [
    "%matplotlib inline\n",
    "plt.xlabel('area')\n",
    "plt.ylabel('price')\n",
    "plt.scatter(df.area,df.price,color='red',marker='+')"
   ]
  },
  {
   "cell_type": "code",
   "execution_count": null,
   "id": "cdd8ac74",
   "metadata": {},
   "outputs": [],
   "source": [
    "# This code will draw scatter plot and plat line graph \n",
    "%matplotlib inline\n",
    "plt.xlabel('area')\n",
    "plt.ylabel('price')\n",
    "plt.scatter(df.area,df.price,color='red',marker='+')\n",
    "plt.plot(df.area,df.price)\n",
    "\n",
    "plt.show()"
   ]
  },
  {
   "cell_type": "code",
   "execution_count": null,
   "id": "a44a05db",
   "metadata": {},
   "outputs": [],
   "source": [
    "# want to visually compare the  N02 values measured in London versus Paris.alpha is used for transpercey of graph with 0.5, 0.25,default value of  is 1)\n",
    "air_quality.plot.scatter(x=\"station_london\", y=\"station_paris\", alpha=0.5)"
   ]
  },
  {
   "cell_type": "markdown",
   "id": "22d0b324",
   "metadata": {},
   "source": [
    "How to draw box blot to check the outliers ?"
   ]
  },
  {
   "cell_type": "code",
   "execution_count": null,
   "id": "c2dc41aa",
   "metadata": {},
   "outputs": [],
   "source": [
    "df['YearsExperience'].plot.box(vert=False)"
   ]
  },
  {
   "cell_type": "code",
   "execution_count": null,
   "id": "adb98b76",
   "metadata": {},
   "outputs": [],
   "source": [
    "air_quality.plot.box()"
   ]
  },
  {
   "cell_type": "code",
   "execution_count": null,
   "id": "270bee08",
   "metadata": {},
   "outputs": [],
   "source": [
    "import matplotlib \n",
    "from matplotlib import pyplot\n",
    "df.plot(kind='box', subplots=True, layout=(4,3), figsize=(18, 22))\n",
    "\n",
    "pyplot.show()"
   ]
  },
  {
   "cell_type": "markdown",
   "id": "b4913a18",
   "metadata": {},
   "source": [
    "How to plot line  graph?"
   ]
  },
  {
   "cell_type": "code",
   "execution_count": null,
   "id": "07ea8880",
   "metadata": {},
   "outputs": [],
   "source": [
    "air['station_paris'].plot()"
   ]
  },
  {
   "cell_type": "code",
   "execution_count": null,
   "id": "47031569",
   "metadata": {},
   "outputs": [],
   "source": [
    "air_quality.plot()"
   ]
  },
  {
   "cell_type": "code",
   "execution_count": null,
   "id": "e8bd42aa",
   "metadata": {},
   "outputs": [],
   "source": [
    "df_new.plot.box() # It displays box plot for all features in single window "
   ]
  },
  {
   "cell_type": "markdown",
   "id": "79b66f46",
   "metadata": {},
   "source": [
    "How to plot density plot ?"
   ]
  },
  {
   "cell_type": "code",
   "execution_count": null,
   "id": "a6f8f2b8",
   "metadata": {},
   "outputs": [],
   "source": [
    "df.plot(kind='density', subplots=True, layout=(4,3), figsize=(18, 22))\n",
    "pyplot.show()"
   ]
  },
  {
   "cell_type": "markdown",
   "id": "a55238cf",
   "metadata": {},
   "source": [
    "How to plot histogram to check the linearity of data?"
   ]
  },
  {
   "cell_type": "code",
   "execution_count": null,
   "id": "b7cf6460",
   "metadata": {},
   "outputs": [],
   "source": [
    "df['Salary'].plot.hist()"
   ]
  },
  {
   "cell_type": "code",
   "execution_count": null,
   "id": "f39496ec",
   "metadata": {},
   "outputs": [],
   "source": [
    "df.plot(kind='hist', subplots=True, layout=(4,3), figsize=(18, 22))\n",
    "pyplot.show()"
   ]
  },
  {
   "cell_type": "code",
   "execution_count": null,
   "id": "fe951101",
   "metadata": {},
   "outputs": [],
   "source": [
    "sn.histplot(df.height, kde=False)"
   ]
  },
  {
   "cell_type": "markdown",
   "id": "0e326a57",
   "metadata": {},
   "source": [
    "How to draw area plot ?"
   ]
  },
  {
   "cell_type": "code",
   "execution_count": null,
   "id": "265d25ef",
   "metadata": {},
   "outputs": [],
   "source": [
    "#I want each of the columns in a separate subplot.\n",
    "axs = air_quality.plot.area(figsize=(14, 4), subplots=True)"
   ]
  },
  {
   "cell_type": "markdown",
   "id": "713b2bd2",
   "metadata": {},
   "source": [
    "How to do data normalization? "
   ]
  },
  {
   "cell_type": "code",
   "execution_count": null,
   "id": "e499b935",
   "metadata": {},
   "outputs": [],
   "source": [
    "# Data normalization \n",
    "from sklearn import preprocessing\n",
    "df_new = preprocessing.normalize(df_new)\n",
    "df_new"
   ]
  },
  {
   "cell_type": "code",
   "execution_count": null,
   "id": "deb3ab03",
   "metadata": {},
   "outputs": [],
   "source": [
    "from sklearn.preprocessing import Normalizer\n",
    "Data_normalizer = Normalizer(norm='l1').fit(X)\n",
    "Data_normalized = Data_normalizer.transform(X)\n",
    "print(Data_normalized )"
   ]
  },
  {
   "cell_type": "code",
   "execution_count": null,
   "id": "2b57623a",
   "metadata": {},
   "outputs": [],
   "source": [
    "Data_normalizer1 = Normalizer(norm='l2').fit(X)\n",
    "Data_normalized1 = Data_normalizer1.transform(X)\n",
    "print(Data_normalized1)"
   ]
  },
  {
   "cell_type": "markdown",
   "id": "5f23bc66",
   "metadata": {},
   "source": [
    "How to plot bar graph()?"
   ]
  },
  {
   "cell_type": "code",
   "execution_count": null,
   "id": "d9156635",
   "metadata": {},
   "outputs": [],
   "source": [
    "#plt.bar()\n",
    "#plt.bar(x,y)\n",
    "import pandas as pd\n",
    "import matplotlib.pyplot as plt\n",
    "import numpy as np\n",
    "\n",
    "month= ['Jan','Feb','Mar','Apr','May']\n",
    "         \n",
    "HYDsales=[50,60,55,75,65]\n",
    "BANsales=[55,50,70,60,80]\n",
    "index=np.arange(1,6)\n",
    "\n",
    "index\n",
    "width=0.30\n",
    "plt.bar(index,HYDsales,width,color='green',label='HYD Sales')\n",
    "plt.bar(index+width,BANsales,width,color='blue',label='BAN Sales')\n",
    "plt.title('Horizaontally Stacked Bar Graph')\n",
    "plt.xlabel('Month')\n",
    "plt.ylabel('Sales')\n",
    "plt.xticks(index+width/6 ,month)\n",
    "plt.legend(loc='upper right')\n",
    "plt.show()"
   ]
  },
  {
   "cell_type": "markdown",
   "id": "8eab6289",
   "metadata": {},
   "source": [
    "How to display pie chart ?"
   ]
  },
  {
   "cell_type": "code",
   "execution_count": null,
   "id": "dd078fc3",
   "metadata": {},
   "outputs": [],
   "source": [
    "month=['Jan','Feb','Mar','Apr','May']\n",
    "HYDsales=[50,60,55,75,65]\n",
    "#plt.pie(HYDsales,explode=[0,0.1,0,0,0],labels= month, shadow=True,autopct='%1.1f%%', )\n",
    "#plt.pie(HYDsales,labels=month)\n",
    "plt.pie(HYDsales,labels=month, shadow=True)\n",
    "plt.title('Sales Graph ')\n",
    "plt.axis(\"equal\")\n",
    "plt.legend()\n",
    "plt.show()"
   ]
  },
  {
   "cell_type": "markdown",
   "id": "a17bf238",
   "metadata": {},
   "source": [
    "How to draw 3D graph?"
   ]
  },
  {
   "cell_type": "code",
   "execution_count": null,
   "id": "8cac6c02",
   "metadata": {},
   "outputs": [],
   "source": [
    "from mpl_toolkits import mplot3d\n",
    "ax = plt.axes(projection=\"3d\")\n",
    "ax.scatter3D(height,weight)\n",
    "ax.set_xlabel(\"Height\")\n",
    "ax.set_ylabel(\"Weight\")\n",
    "plt.show()"
   ]
  },
  {
   "cell_type": "markdown",
   "id": "b968e5b2",
   "metadata": {},
   "source": [
    "Label Encoding\n",
    "sklearn.preprocessing.LabelEncoder from sklearn.preprocessing import LabelEncoder\n",
    "\n",
    "fit(y) - Fit label encoder.\n",
    "\n",
    "fit_transform(y) - Fit label encoder and return encoded labels.\n",
    "\n",
    "inverse_transform(y) - Transform labels back to original encoding.\n",
    "\n",
    "transform(y) - Transform labels to normalized encoding."
   ]
  },
  {
   "cell_type": "code",
   "execution_count": null,
   "id": "f870336d",
   "metadata": {},
   "outputs": [],
   "source": [
    "from sklearn import preprocessing\n",
    "    \n",
    "le = preprocessing.LabelEncoder()\n",
    " \n",
    "le.fit([1, 2, 2, 6])\n",
    "\n",
    "#print(le.classes_)\n",
    "\n",
    "print(le.fit_transform([1, 1, 2, 6]))\n",
    "\n",
    "print(le.inverse_transform([0, 0, 1, 2]))\n"
   ]
  },
  {
   "cell_type": "code",
   "execution_count": null,
   "id": "d07e7b1c",
   "metadata": {},
   "outputs": [],
   "source": [
    "le = preprocessing.LabelEncoder()\n",
    "le.fit([\"paris\", \"paris\", \"tokyo\", \"amsterdam\"])\n",
    "\n",
    "#print(le.classes_)\n",
    "print(le.transform([\"amsterdam\", \"paris\", \"tokyo\"]))\n",
    "list(le.inverse_transform([0, 1, 2]))"
   ]
  },
  {
   "cell_type": "code",
   "execution_count": null,
   "id": "22c399f1",
   "metadata": {},
   "outputs": [],
   "source": [
    "#encode the geography into numerical\n",
    "from sklearn.preprocessing import LabelEncoder\n",
    "\n",
    "#encoding geography\n",
    "le1=LabelEncoder()\n",
    "le1.fit(bank.Geography)\n",
    "bank.Geography=le1.transform(bank.Geography)\n",
    "bank.Geography"
   ]
  },
  {
   "cell_type": "markdown",
   "id": "1d150bf9",
   "metadata": {},
   "source": [
    "How to standardized the data ?"
   ]
  },
  {
   "cell_type": "code",
   "execution_count": null,
   "id": "b7f41d85",
   "metadata": {},
   "outputs": [],
   "source": [
    "X = df.drop(['Exited','CustomerId','Surname','RowNumber','Geography','Gender'],axis='columns')\n",
    "\n",
    "array = X.values\n",
    "from sklearn import preprocessing\n",
    "data_scaler = preprocessing.MinMaxScaler(feature_range=(1,3))\n",
    "data_rescaled = data_scaler.fit_transform(array)\n",
    "print(data_rescaled)"
   ]
  },
  {
   "cell_type": "code",
   "execution_count": null,
   "id": "fc0b8d44",
   "metadata": {},
   "outputs": [],
   "source": [
    "How to check data is having null values and count the total of each feature  "
   ]
  },
  {
   "cell_type": "code",
   "execution_count": null,
   "id": "7828fca1",
   "metadata": {},
   "outputs": [],
   "source": [
    "data.isnull().sum()"
   ]
  },
  {
   "cell_type": "markdown",
   "id": "956f8e8c",
   "metadata": {},
   "source": [
    "How to find total number of classes in output feature? "
   ]
  },
  {
   "cell_type": "code",
   "execution_count": null,
   "id": "8d9d21e7",
   "metadata": {},
   "outputs": [],
   "source": [
    "income = data.income.value_counts()\n",
    "income"
   ]
  },
  {
   "cell_type": "markdown",
   "id": "a5bc9c68",
   "metadata": {},
   "source": [
    "how to remove the outlier ? "
   ]
  },
  {
   "cell_type": "code",
   "execution_count": null,
   "id": "dd242b9f",
   "metadata": {},
   "outputs": [],
   "source": [
    "#Removing Outlier with Std Dev\n",
    "mean = df.height.mean()\n",
    "mean\n",
    "std_deviation = df.height.std()\n",
    "std_deviation\n",
    "left= mean-1*std_deviation\n",
    "left\n",
    "right= mean+1*std_deviation\n",
    "right\n",
    "outlier=df[(df.height < left) | (df.height >right)]\n",
    "outlier \n",
    "correct_data= df[(df.height<right) & (df.height>left)]\n",
    "correct_data\n"
   ]
  },
  {
   "cell_type": "code",
   "execution_count": null,
   "id": "57c3ff5c",
   "metadata": {},
   "outputs": [],
   "source": [
    "# Removing outlier With Zscore data\n",
    "df['zscore'] = ( df.height - df.height.mean() ) / df.height.std()\n",
    "zright=df[df['zscore']>3]\n",
    "zright\n",
    "zleft=df[df['zscore']<-3]\n",
    "zleft\n",
    "newz_data= df[(df['zscore']<zright) & (df['zscore']>zleft)]\n",
    "newz_data"
   ]
  },
  {
   "cell_type": "markdown",
   "id": "dda3fca3",
   "metadata": {},
   "source": [
    "How to use mc2gen for converting model into the function  for differnet programming languages \n",
    "http://localhost:8888/notebooks/DSclass%20Salaryprediction%20linear%20regression.ipynb"
   ]
  },
  {
   "cell_type": "code",
   "execution_count": null,
   "id": "7326e7cf",
   "metadata": {},
   "outputs": [],
   "source": [
    "pip install m2cgen"
   ]
  },
  {
   "cell_type": "code",
   "execution_count": null,
   "id": "07b00cb1",
   "metadata": {},
   "outputs": [],
   "source": [
    "import m2cgen as m2c \n",
    "import warnings                        # To ignore any warnings\n",
    "warnings.filterwarnings(\"ignore\")\n",
    "model_to_python = m2c.export_to_python(lr) # lr is model object \n",
    "model_to_python\n",
    "# above code produces the python function \n",
    "'def score(input):\\n    return (26894.754093543816) + ((input[0]) * (9057.307209445205))\\n"
   ]
  },
  {
   "cell_type": "code",
   "execution_count": null,
   "id": "fb2757af",
   "metadata": {},
   "outputs": [],
   "source": [
    "# Use the above function to test the prediction \n",
    "def score(input):\n",
    "    return (26894.754093543816) + ((input[0]) * (9057.307209445205))\n",
    "\n",
    "\n",
    "# test prediction in pure python code \n",
    "input = [5]\n",
    "\n",
    "pred = score(input) \n",
    "print(\"prediction result: {}\".format(int(pred)))"
   ]
  },
  {
   "cell_type": "code",
   "execution_count": null,
   "id": "1d896236",
   "metadata": {},
   "outputs": [],
   "source": [
    "# Genrate PHP function for model \n",
    "model_to_php = m2c.export_to_php(lr) \n",
    "model_to_php\n",
    "\n",
    "# The above code generates the php function \n",
    "'<?php\\nfunction score(array $input) {\\n    return (26894.754093543816) + (($input[0]) * (9057.307209445205));\\n}\\n'"
   ]
  },
  {
   "cell_type": "code",
   "execution_count": null,
   "id": "44a740ba",
   "metadata": {},
   "outputs": [],
   "source": [
    "# convert model to pure Javascript code  \n",
    "model_to_javascript = m2c.export_to_javascript(lr) \n",
    "model_to_javascript\n",
    "#Above code genrate javasciprt function \n",
    "'function score(input) {\\n    return (26894.754093543816) + ((input[0]) * (9057.307209445205));\\n}\\n'"
   ]
  },
  {
   "cell_type": "markdown",
   "id": "ea4e274f",
   "metadata": {},
   "source": [
    "How to ignore the warnings in jupyter Notebook?"
   ]
  },
  {
   "cell_type": "code",
   "execution_count": null,
   "id": "981e3820",
   "metadata": {},
   "outputs": [],
   "source": [
    "import warnings                        # To ignore any warnings\n",
    "warnings.filterwarnings(\"ignore\")"
   ]
  }
 ],
 "metadata": {
  "kernelspec": {
   "display_name": "Python 3",
   "language": "python",
   "name": "python3"
  },
  "language_info": {
   "codemirror_mode": {
    "name": "ipython",
    "version": 3
   },
   "file_extension": ".py",
   "mimetype": "text/x-python",
   "name": "python",
   "nbconvert_exporter": "python",
   "pygments_lexer": "ipython3",
   "version": "3.8.8"
  }
 },
 "nbformat": 4,
 "nbformat_minor": 5
}
