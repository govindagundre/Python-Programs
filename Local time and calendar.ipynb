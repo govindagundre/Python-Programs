{
 "cells": [
  {
   "cell_type": "code",
   "execution_count": 2,
   "id": "18d6d6d9",
   "metadata": {},
   "outputs": [
    {
     "name": "stdout",
     "output_type": "stream",
     "text": [
      "local current time time.struct_time(tm_year=2021, tm_mon=8, tm_mday=5, tm_hour=11, tm_min=22, tm_sec=27, tm_wday=3, tm_yday=217, tm_isdst=0)\n"
     ]
    }
   ],
   "source": [
    "import time;\n",
    "localtime=time.localtime(time.time())\n",
    "print(\"local current time\",localtime)"
   ]
  },
  {
   "cell_type": "code",
   "execution_count": 3,
   "id": "b6bcbe07",
   "metadata": {},
   "outputs": [
    {
     "name": "stdout",
     "output_type": "stream",
     "text": [
      "local current time is: Thu Aug  5 11:26:38 2021\n"
     ]
    }
   ],
   "source": [
    "import time;\n",
    "localtime=time.asctime(time.localtime(time.time()))\n",
    "print(\"local current time is:\",localtime)"
   ]
  },
  {
   "cell_type": "code",
   "execution_count": 4,
   "id": "0673c3f3",
   "metadata": {},
   "outputs": [
    {
     "name": "stdout",
     "output_type": "stream",
     "text": [
      "Here is the calendar:\n",
      "    August 2021\n",
      "Mo Tu We Th Fr Sa Su\n",
      "                   1\n",
      " 2  3  4  5  6  7  8\n",
      " 9 10 11 12 13 14 15\n",
      "16 17 18 19 20 21 22\n",
      "23 24 25 26 27 28 29\n",
      "30 31\n",
      "\n"
     ]
    }
   ],
   "source": [
    "import calendar\n",
    "cal=calendar.month(2021,8)\n",
    "print(\"Here is the calendar:\")\n",
    "print(cal)"
   ]
  },
  {
   "cell_type": "code",
   "execution_count": 5,
   "id": "c71976d1",
   "metadata": {},
   "outputs": [
    {
     "name": "stdout",
     "output_type": "stream",
     "text": [
      "2021-08-05 11:46:08.152944\n"
     ]
    }
   ],
   "source": [
    "import datetime\n",
    "x=datetime.datetime.now()\n",
    "print(x)\n"
   ]
  },
  {
   "cell_type": "code",
   "execution_count": null,
   "id": "91d68550",
   "metadata": {},
   "outputs": [],
   "source": [
    "#Accept birth year from user\n",
    "#display his age using date()\n",
    "\n",
    "i=int(input(\"Please enter bith year\"))\n",
    "from dat\n",
    "\n"
   ]
  }
 ],
 "metadata": {
  "kernelspec": {
   "display_name": "Python 3",
   "language": "python",
   "name": "python3"
  },
  "language_info": {
   "codemirror_mode": {
    "name": "ipython",
    "version": 3
   },
   "file_extension": ".py",
   "mimetype": "text/x-python",
   "name": "python",
   "nbconvert_exporter": "python",
   "pygments_lexer": "ipython3",
   "version": "3.8.8"
  }
 },
 "nbformat": 4,
 "nbformat_minor": 5
}
