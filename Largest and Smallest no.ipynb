{
 "cells": [
  {
   "cell_type": "code",
   "execution_count": 3,
   "id": "51110bf7",
   "metadata": {},
   "outputs": [
    {
     "name": "stdout",
     "output_type": "stream",
     "text": [
      "[2, 7, 8, 9, 10, 55, 88, 100]\n"
     ]
    }
   ],
   "source": [
    "mylist=[2,8,10,55,7,88,9,100]\n",
    "mylist.sort()\n",
    "print(mylist)"
   ]
  },
  {
   "cell_type": "code",
   "execution_count": 10,
   "id": "6d33194c",
   "metadata": {},
   "outputs": [
    {
     "name": "stdout",
     "output_type": "stream",
     "text": [
      "Smallest number is: 2\n"
     ]
    }
   ],
   "source": [
    "print(\"Smallest number is:\",mylist[0])"
   ]
  },
  {
   "cell_type": "code",
   "execution_count": 4,
   "id": "a429a8a6",
   "metadata": {},
   "outputs": [
    {
     "name": "stdout",
     "output_type": "stream",
     "text": [
      "Largest number is: 100\n"
     ]
    }
   ],
   "source": [
    "print(\"Largest number is:\",mylist[-1])"
   ]
  },
  {
   "cell_type": "code",
   "execution_count": 5,
   "id": "2200fe35",
   "metadata": {},
   "outputs": [
    {
     "name": "stdout",
     "output_type": "stream",
     "text": [
      "Small number is 2\n"
     ]
    }
   ],
   "source": [
    "print(\"Small number is\",min(mylist))"
   ]
  },
  {
   "cell_type": "code",
   "execution_count": 6,
   "id": "62149a0a",
   "metadata": {},
   "outputs": [
    {
     "name": "stdout",
     "output_type": "stream",
     "text": [
      "Large number is 100\n"
     ]
    }
   ],
   "source": [
    "print(\"Large number is\",max(mylist))"
   ]
  },
  {
   "cell_type": "code",
   "execution_count": null,
   "id": "61f403da",
   "metadata": {},
   "outputs": [],
   "source": []
  }
 ],
 "metadata": {
  "kernelspec": {
   "display_name": "Python 3",
   "language": "python",
   "name": "python3"
  },
  "language_info": {
   "codemirror_mode": {
    "name": "ipython",
    "version": 3
   },
   "file_extension": ".py",
   "mimetype": "text/x-python",
   "name": "python",
   "nbconvert_exporter": "python",
   "pygments_lexer": "ipython3",
   "version": "3.8.8"
  }
 },
 "nbformat": 4,
 "nbformat_minor": 5
}
