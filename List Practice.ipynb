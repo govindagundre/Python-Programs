{
 "cells": [
  {
   "cell_type": "code",
   "execution_count": 1,
   "id": "84ea26f5",
   "metadata": {},
   "outputs": [],
   "source": [
    "tinylist=[123,10,3,5,18]\n",
    "tinylist.sort()"
   ]
  },
  {
   "cell_type": "code",
   "execution_count": 10,
   "id": "4c63fdd5",
   "metadata": {},
   "outputs": [
    {
     "name": "stdout",
     "output_type": "stream",
     "text": [
      "[123, 18, 10, 5, 3]\n"
     ]
    }
   ],
   "source": [
    "print(tinylist)"
   ]
  },
  {
   "cell_type": "code",
   "execution_count": 11,
   "id": "08680aa9",
   "metadata": {},
   "outputs": [],
   "source": [
    "tinylist.sort(reverse=True)\n",
    "\n"
   ]
  },
  {
   "cell_type": "code",
   "execution_count": 12,
   "id": "62213c04",
   "metadata": {},
   "outputs": [
    {
     "name": "stdout",
     "output_type": "stream",
     "text": [
      "[123, 18, 10, 5, 3]\n"
     ]
    }
   ],
   "source": [
    "print(tinylist)"
   ]
  },
  {
   "cell_type": "code",
   "execution_count": 13,
   "id": "2265123b",
   "metadata": {},
   "outputs": [],
   "source": [
    "tinylist.sort(reverse=True)"
   ]
  },
  {
   "cell_type": "code",
   "execution_count": 14,
   "id": "b11982d3",
   "metadata": {},
   "outputs": [
    {
     "name": "stdout",
     "output_type": "stream",
     "text": [
      "[123, 18, 10, 5, 3]\n"
     ]
    }
   ],
   "source": [
    "print(tinylist)"
   ]
  },
  {
   "cell_type": "code",
   "execution_count": 15,
   "id": "05262d8d",
   "metadata": {},
   "outputs": [],
   "source": [
    "list=['Nilesh','Mangesh','Sunil','Mahesh','Amit']\n"
   ]
  },
  {
   "cell_type": "code",
   "execution_count": 17,
   "id": "9bd6e668",
   "metadata": {
    "scrolled": true
   },
   "outputs": [
    {
     "name": "stdout",
     "output_type": "stream",
     "text": [
      "['Nilesh', 'Mangesh', 'Sunil', 'Mahesh', 'Amit']\n"
     ]
    }
   ],
   "source": [
    "print(list)"
   ]
  },
  {
   "cell_type": "code",
   "execution_count": 18,
   "id": "7a7ba2b8",
   "metadata": {},
   "outputs": [],
   "source": [
    "g=['Nilesh','Mangesh','Sunil','Mahesh','Amit']"
   ]
  },
  {
   "cell_type": "code",
   "execution_count": 19,
   "id": "bb686332",
   "metadata": {},
   "outputs": [],
   "source": [
    "g.sort()"
   ]
  },
  {
   "cell_type": "code",
   "execution_count": 20,
   "id": "bf6da1b1",
   "metadata": {},
   "outputs": [
    {
     "name": "stdout",
     "output_type": "stream",
     "text": [
      "['Amit', 'Mahesh', 'Mangesh', 'Nilesh', 'Sunil']\n"
     ]
    }
   ],
   "source": [
    "print(g)"
   ]
  },
  {
   "cell_type": "code",
   "execution_count": 21,
   "id": "a2ff1463",
   "metadata": {},
   "outputs": [],
   "source": [
    "g.sort(reverse=True)"
   ]
  },
  {
   "cell_type": "code",
   "execution_count": 22,
   "id": "7b787fed",
   "metadata": {},
   "outputs": [
    {
     "name": "stdout",
     "output_type": "stream",
     "text": [
      "['Sunil', 'Nilesh', 'Mangesh', 'Mahesh', 'Amit']\n"
     ]
    }
   ],
   "source": [
    "print(g)"
   ]
  },
  {
   "cell_type": "code",
   "execution_count": 24,
   "id": "11949d2b",
   "metadata": {},
   "outputs": [],
   "source": [
    "my_list=['goldy',0,7,8]\n",
    "new_list=my_list.copy()"
   ]
  },
  {
   "cell_type": "code",
   "execution_count": 25,
   "id": "d3ba1245",
   "metadata": {},
   "outputs": [
    {
     "name": "stdout",
     "output_type": "stream",
     "text": [
      "Copied List: ['goldy', 0, 7, 8]\n"
     ]
    }
   ],
   "source": [
    "print('Copied List:',new_list)"
   ]
  },
  {
   "cell_type": "code",
   "execution_count": 26,
   "id": "4a1e5d9f",
   "metadata": {},
   "outputs": [],
   "source": [
    "vowels=['a','e','i','o','i','u']"
   ]
  },
  {
   "cell_type": "code",
   "execution_count": 27,
   "id": "cbf41882",
   "metadata": {},
   "outputs": [],
   "source": [
    "count=vowels.count('i')\n"
   ]
  },
  {
   "cell_type": "code",
   "execution_count": 28,
   "id": "c6ac5826",
   "metadata": {},
   "outputs": [
    {
     "name": "stdout",
     "output_type": "stream",
     "text": [
      "The Count of i is: 2\n"
     ]
    }
   ],
   "source": [
    "print('The Count of i is:',count)"
   ]
  },
  {
   "cell_type": "code",
   "execution_count": 29,
   "id": "d849a477",
   "metadata": {},
   "outputs": [],
   "source": [
    "languages=['Python','Java','c++','french','C']"
   ]
  },
  {
   "cell_type": "code",
   "execution_count": 31,
   "id": "85067119",
   "metadata": {},
   "outputs": [
    {
     "name": "stdout",
     "output_type": "stream",
     "text": [
      "Return Value: french\n"
     ]
    }
   ],
   "source": [
    "return_value=languages.pop(3)\n",
    "print('Return Value:',return_value)"
   ]
  },
  {
   "cell_type": "code",
   "execution_count": 32,
   "id": "7475cc4d",
   "metadata": {},
   "outputs": [],
   "source": [
    "list=[2,8,9,]\n"
   ]
  },
  {
   "cell_type": "code",
   "execution_count": 33,
   "id": "bced3054",
   "metadata": {},
   "outputs": [],
   "source": [
    "list.clear()"
   ]
  },
  {
   "cell_type": "code",
   "execution_count": 34,
   "id": "40bc0cbb",
   "metadata": {},
   "outputs": [
    {
     "name": "stdout",
     "output_type": "stream",
     "text": [
      "List: []\n"
     ]
    }
   ],
   "source": [
    "print('List:',list)"
   ]
  },
  {
   "cell_type": "code",
   "execution_count": null,
   "id": "2011fd45",
   "metadata": {},
   "outputs": [],
   "source": []
  }
 ],
 "metadata": {
  "kernelspec": {
   "display_name": "Python 3",
   "language": "python",
   "name": "python3"
  },
  "language_info": {
   "codemirror_mode": {
    "name": "ipython",
    "version": 3
   },
   "file_extension": ".py",
   "mimetype": "text/x-python",
   "name": "python",
   "nbconvert_exporter": "python",
   "pygments_lexer": "ipython3",
   "version": "3.8.8"
  }
 },
 "nbformat": 4,
 "nbformat_minor": 5
}
