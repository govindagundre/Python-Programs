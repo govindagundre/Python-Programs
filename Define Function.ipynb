{
 "cells": [
  {
   "cell_type": "code",
   "execution_count": 11,
   "id": "f1439456",
   "metadata": {},
   "outputs": [
    {
     "name": "stdout",
     "output_type": "stream",
     "text": [
      "i am first call to user defined function!\n",
      "Again second call to the same function\n"
     ]
    }
   ],
   "source": [
    "def printme(str):\n",
    "\n",
    "# \"This prints a passed string into this function\"\n",
    "    print (str)\n",
    "    return;\n",
    "\n",
    "printme(\"i am first call to user defined function!\")\n",
    "printme(\"Again second call to the same function\")"
   ]
  },
  {
   "cell_type": "code",
   "execution_count": 16,
   "id": "f37cbb8c",
   "metadata": {},
   "outputs": [
    {
     "name": "stdout",
     "output_type": "stream",
     "text": [
      "Name Govinda\n",
      "Age 55\n",
      "Name Govinda\n",
      "Age 35\n",
      "Name Gauraaansh\n",
      "Age 35\n"
     ]
    }
   ],
   "source": [
    "def printinfo(name=\"Gauraaansh\",age=35):\n",
    "    \n",
    "    print(\"Name\",name)\n",
    "    \n",
    "    print(\"Age\",age)\n",
    "    \n",
    "    return;\n",
    "\n",
    "printinfo(age=55,name=\"Govinda\")\n",
    "printinfo(name=\"Govinda\")\n",
    "printinfo()"
   ]
  },
  {
   "cell_type": "code",
   "execution_count": null,
   "id": "7500ed1e",
   "metadata": {},
   "outputs": [],
   "source": []
  }
 ],
 "metadata": {
  "kernelspec": {
   "display_name": "Python 3",
   "language": "python",
   "name": "python3"
  },
  "language_info": {
   "codemirror_mode": {
    "name": "ipython",
    "version": 3
   },
   "file_extension": ".py",
   "mimetype": "text/x-python",
   "name": "python",
   "nbconvert_exporter": "python",
   "pygments_lexer": "ipython3",
   "version": "3.8.8"
  }
 },
 "nbformat": 4,
 "nbformat_minor": 5
}
